{
 "cells": [
  {
   "cell_type": "code",
   "execution_count": null,
   "id": "a5a032cf",
   "metadata": {
    "vscode": {
     "languageId": "plaintext"
    }
   },
   "outputs": [],
   "source": [
    "# 📦 Curva ABC para Estoque de uma Papelaria\n",
    "\n",
    "# 1. Importar bibliotecas\n",
    "import pandas as pd\n",
    "import matplotlib.pyplot as plt\n",
    "import seaborn as sns\n",
    "\n",
    "# 2. Dados fictícios do estoque\n",
    "dados = {\n",
    "    'Produto': [\n",
    "        'Caneta azul', 'Lápis HB', 'Caderno universitário', 'Mochila escolar', 'Apontador',\n",
    "        'Cartucho preto', 'Grampeador', 'Tesoura escolar', 'Papel sulfite A4', 'Régua 30cm',\n",
    "        'Corretivo líquido', 'Borracha branca', 'Cola branca 90ml', 'Pasta plástica', 'Marca-texto neon'\n",
    "    ],\n",
    "    'Qtd_vendida': [150, 200, 90, 25, 100, 15, 18, 30, 500, 70, 40, 300, 120, 80, 95],\n",
    "    'Preco_unitario': [2.50, 1.80, 15.00, 85.00, 3.00, 120.00, 30.00, 12.00, 0.10, 2.00, 5.00, 0.50, 4.00, 1.50, 3.50]\n",
    "}\n",
    "\n",
    "df = pd.DataFrame(dados)\n",
    "\n",
    "# 3. Cálculo do valor total por item\n",
    "df['Valor_total'] = df['Qtd_vendida'] * df['Preco_unitario']\n",
    "\n",
    "# 4. Ordenar por valor total (maior para menor)\n",
    "df = df.sort_values(by='Valor_total', ascending=False).reset_index(drop=True)\n",
    "\n",
    "# 5. Cálculo do percentual acumulado\n",
    "df['%_acumulado'] = 100 * df['Valor_total'].cumsum() / df['Valor_total'].sum()\n",
    "\n",
    "# 6. Classificação ABC\n",
    "def classificar_abc(percentual):\n",
    "    if percentual <= 80:\n",
    "        return 'A'\n",
    "    elif percentual <= 95:\n",
    "        return 'B'\n",
    "    else:\n",
    "        return 'C'\n",
    "\n",
    "df['Classe'] = df['%_acumulado'].apply(classificar_abc)\n",
    "\n",
    "# 7. Exibir tabela final\n",
    "print(\"📋 Classificação ABC do Estoque:\\n\")\n",
    "print(df[['Produto', 'Qtd_vendida', 'Preco_unitario', 'Valor_total', '%_acumulado', 'Classe']])\n",
    "\n",
    "# 8. Gráfico de barras colorido por classe\n",
    "plt.figure(figsize=(12, 6))\n",
    "sns.barplot(x='Produto', y='Valor_total', hue='Classe', data=df, dodge=False, palette='Set2')\n",
    "plt.title('Curva ABC - Estoque da Papelaria')\n",
    "plt.xlabel('Produto')\n",
    "plt.ylabel('Valor Total (R$)')\n",
    "plt.xticks(rotation=45)\n",
    "plt.tight_layout()\n",
    "plt.show()\n"
   ]
  }
 ],
 "metadata": {
  "language_info": {
   "name": "python"
  }
 },
 "nbformat": 4,
 "nbformat_minor": 5
}
